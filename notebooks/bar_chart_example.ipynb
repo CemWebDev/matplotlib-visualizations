{
 "cells": [
  {
   "cell_type": "markdown",
   "metadata": {},
   "source": [
    "# Bar Chart with Matplotlib\n",
    "\n",
    "In this notebook, we will create a simple bar chart\n",
    "### Importing Libraries"
   ]
  }
 ],
 "metadata": {
  "language_info": {
   "name": "python"
  }
 },
 "nbformat": 4,
 "nbformat_minor": 2
}
